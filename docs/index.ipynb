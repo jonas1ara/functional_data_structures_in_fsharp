{
 "cells": [
  {
   "cell_type": "markdown",
   "metadata": {},
   "source": [
    "# Structured programming in F#\n",
    "\n",
    "One of the things I enjoyed when discovering for the first time functional programming, was how it reveals\n",
    "patterns that traditional imperative programming hides. I was delighted to discover how implementing [Breadth-First Search](https://en.wikipedia.org/wiki/Breadth-first_search) with the sort of restrictions we  expect from functional programming, also reveals hidden patterns.\n",
    "\n",
    "Another surprise is that F# is a great candidate to explore functional data structures, which seem could be \n",
    "a good update to the excellent work by [Chris Okasaki](https://en.wikipedia.org/wiki/Chris_Okasaki#Purely_functional_data_structures)\n",
    "\n",
    "- [Breadth-First Search](./bfs.ipynb)\n",
    "- [Queue](./queue.ipynb)\n",
    "- [Pattern matching nesting reduction](./pattern_matching_nesting_reduction.ipynb)\n",
    "- [Fixed points](./fixed_points.ipynb)\n",
    "- [Exception vs Result](./exception_vs_result.ipynb)\n"
   ]
  }
 ],
 "metadata": {
  "kernelspec": {
   "display_name": ".NET (C#)",
   "language": "C#",
   "name": ".net-csharp"
  },
  "language_info": {
   "name": "python"
  },
  "polyglot_notebook": {
   "kernelInfo": {
    "defaultKernelName": "csharp",
    "items": [
     {
      "aliases": [],
      "name": "csharp"
     }
    ]
   }
  }
 },
 "nbformat": 4,
 "nbformat_minor": 2
}
