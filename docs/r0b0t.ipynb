{
 "cells": [
  {
   "cell_type": "markdown",
   "metadata": {},
   "source": [
    "# Designing a structure from the bottom up: r0b0t"
   ]
  },
  {
   "cell_type": "markdown",
   "metadata": {},
   "source": [
    "**r0b0t** is a small program for interacting with Large Language Models you can find [here](https://github.com/lamg/r0b0t). This article shows how it was restructured by finding complex operations that could be contained and exposed through simpler interfaces."
   ]
  },
  {
   "cell_type": "markdown",
   "metadata": {},
   "source": [
    "## The [Stream](https://github.com/lamg/r0b0t/tree/master/Lib/Stream) module"
   ]
  },
  {
   "cell_type": "markdown",
   "metadata": {},
   "source": [
    "A module is a group of elements whose interactions can be contained, abstracted and hidden under a small interface compared to the one that would be the result exposing their full domain.\n",
    "\n",
    "The modules defined below follow that principle\n",
    "\n",
    "Stream exposes the following interface\n",
    "\n",
    "```fsharp\n",
    "type GetProvider = unit -> AsyncSeq<string option>\n",
    "type StopInsert = {insertWord: string -> unit; stop: unit -> unit}\n",
    "\n",
    "val main: GetProvider -> StopInsert -> unit\n",
    "```\n",
    "\n",
    "The purpose of this module is to consume a `None` terminated sequence of strings, `AsyncSeq<string option>`, produced by an LLM, and send it to a GUI, hidden in the implementation of `StopInsert`. The choice of this module as starting point comes from the observation that this is one of the places were the most complex operations happen, namely, the coordination between the consumption of asynchronous data and its display on a GUI.\n",
    "\n",
    "This coordination between asynchrounous stream of strings and GUI seems unavoidable for this project, therefore it's one of its atomic and complex components.\n",
    "\n",
    "By focusing first in such complex interactions I try to create abstractions that will effectively contain concerns that otherwise could leak to other project components. That way experimentation and development can be done inside modules without outer interference. This doesn't imply the components are or should be reusable, because still their interfaces are quite particular to this project."
   ]
  },
  {
   "cell_type": "markdown",
   "metadata": {},
   "source": [
    "## The [GetProviderImpl](https://github.com/lamg/r0b0t/blob/master/Lib/GetProviderImpl.fs) module"
   ]
  },
  {
   "cell_type": "markdown",
   "metadata": {},
   "source": [
    "The above module relies on `GetProvider` and `StopInsert`. We can focus now on implementing them. Let's start with a module for `GetProvider`:\n",
    "\n",
    "```fsharp\n",
    "type Conf =\n",
    "  { active: Active\n",
    "    providers: Map<Provider, ProviderImpl> }\n",
    "\n",
    "val initConf: ProviderModule list -> Provider -> Conf\n",
    "val getProvider: (unit -> Conf) -> (unit -> Prompt) : Stream.Types.GetProvider \n",
    "```\n",
    "\n",
    "You can observe instead of `Conf` and `Prompt`, `getProvider` receives `unit -> Conf` and `unit -> Prompt`. The reason for this is the configuration and the prompt are values stored in mutable variables, in the User Interface."
   ]
  },
  {
   "cell_type": "markdown",
   "metadata": {},
   "source": [
    "## The [ProviderModule](https://github.com/lamg/r0b0t/tree/master/Lib/ProviderModuleImpl) implementation"
   ]
  },
  {
   "cell_type": "markdown",
   "metadata": {},
   "source": [
    "In the above module, `initConf`, relies on `ProviderModule`, which is the interface that hides the interaction with GitHub Copilot, OpenAI's API, or any other that could be added in the future. You can find implementations for them under the directory `ProviderModuleImpl`.\n",
    "\n",
    "Their exposed interface is the following\n",
    "\n",
    "```fsharp\n",
    "val providerModule: GetProviderImpl.ProviderModule\n",
    "```"
   ]
  },
  {
   "cell_type": "markdown",
   "metadata": {},
   "source": [
    "## [GUI](https://github.com/lamg/r0b0t/blob/master/Lib/GUI.fs) module: initialization and mutable state"
   ]
  },
  {
   "cell_type": "markdown",
   "metadata": {},
   "source": [
    "With the above modules implemented there's nothing left that to create the context where the configuration is used and mutated by the GUI. This allows us to call `initConf`, `getProvider`, and finally `Stream.main` to get answers from LLMs. `Stream.main` also relies on `StopInsert`, but its implementation turned out to be so tied to the `GUI` module that it didn't deserve a separate one."
   ]
  }
 ],
 "metadata": {
  "kernelspec": {
   "display_name": ".NET (C#)",
   "language": "C#",
   "name": ".net-csharp"
  },
  "language_info": {
   "name": "python"
  },
  "polyglot_notebook": {
   "kernelInfo": {
    "defaultKernelName": "csharp",
    "items": [
     {
      "aliases": [],
      "name": "csharp"
     }
    ]
   }
  }
 },
 "nbformat": 4,
 "nbformat_minor": 2
}
