{
 "cells": [
  {
   "cell_type": "markdown",
   "metadata": {},
   "source": [
    "# Queue"
   ]
  },
  {
   "cell_type": "markdown",
   "metadata": {},
   "source": [
    "A queue is data structure that stores a sequence of elements, while supporting two basic operations: `enqueue` and `dequeue`\n",
    "\n",
    "Let's visualize how it works:\n",
    "\n",
    "```\n",
    " [0; 1; 2]\n",
    "= { enqueue 42 }\n",
    " [0; 1; 2; 42]\n",
    "```\n",
    "\n",
    "```\n",
    " [0; 1; 2]\n",
    "= { dequeue }\n",
    " 0, [1; 2]\n",
    "```\n",
    "\n",
    "##### First restriction: rely on inmutable data structures\n",
    "\n",
    "- Using a list we can rely on the operator `::` for dequeueing, since pattern matching `x::xs` O(1)\n",
    "- However this means for enqueuing we need to do `xs @ [x]` which is O(n), where `n = xs.Length`\n",
    "\n",
    "##### Solution:\n",
    "- rely on `::` for both `enqueue` and `dequeue`, since the operation `x::xs` is O(1)\n",
    "- We can use two lists one enqueueing and one for dequeueing, `front` and `rear` respectively\n",
    "- For dequeueing elements we do the pattern match `x::xs` on `front` getting in `x` the expected element, while in `xs` the new value for `front`.\n",
    "- For enqueueing we repleace `rear` by `x::rear`, however this list ends up reversed according the expected order when dequeueing, since `x` is its first element and should be the last dequeued.\n",
    "- At some point the `dequeue` operation will leave empty the `front` list. When that happens we can take `rear`, reverse it and use it as the new `front` while the new `rear` is an empty list."
   ]
  },
  {
   "cell_type": "code",
   "execution_count": 1,
   "metadata": {
    "dotnet_interactive": {
     "language": "fsharp"
    },
    "polyglot_notebook": {
     "kernelName": "fsharp"
    },
    "vscode": {
     "languageId": "polyglot-notebook"
    }
   },
   "outputs": [],
   "source": [
    "type Queue<'a> = { front: 'a list; rear: 'a list }\n",
    "\n",
    "let enqueue (q: Queue<'a>) (x: 'a) = { q with rear = x :: q.rear }\n",
    "\n",
    "let dequeue (q: Queue<'a>) =\n",
    "  match q.front, List.rev q.rear with\n",
    "  | [], [] -> None\n",
    "  | [], x :: xs -> Some(x, { front = xs; rear = [] })\n",
    "  | x :: xs, _ -> Some(x, { q with front = xs })\n",
    "\n",
    "let rec queueToSeq (q: Queue<'a>) =\n",
    "  seq {\n",
    "    match dequeue q with\n",
    "    | None -> ()\n",
    "    | Some(x, nq) ->\n",
    "      yield x\n",
    "      yield! queueToSeq nq\n",
    "  }"
   ]
  },
  {
   "cell_type": "markdown",
   "metadata": {},
   "source": [
    "Let's make a simple test for our algorithm:"
   ]
  },
  {
   "cell_type": "code",
   "execution_count": 2,
   "metadata": {
    "dotnet_interactive": {
     "language": "fsharp"
    },
    "polyglot_notebook": {
     "kernelName": "fsharp"
    },
    "vscode": {
     "languageId": "polyglot-notebook"
    }
   },
   "outputs": [
    {
     "data": {
      "text/html": [
       "<div class=\"dni-plaintext\"><pre>True</pre></div><style>\r\n",
       ".dni-code-hint {\r\n",
       "    font-style: italic;\r\n",
       "    overflow: hidden;\r\n",
       "    white-space: nowrap;\r\n",
       "}\r\n",
       ".dni-treeview {\r\n",
       "    white-space: nowrap;\r\n",
       "}\r\n",
       ".dni-treeview td {\r\n",
       "    vertical-align: top;\r\n",
       "    text-align: start;\r\n",
       "}\r\n",
       "details.dni-treeview {\r\n",
       "    padding-left: 1em;\r\n",
       "}\r\n",
       "table td {\r\n",
       "    text-align: start;\r\n",
       "}\r\n",
       "table tr { \r\n",
       "    vertical-align: top; \r\n",
       "    margin: 0em 0px;\r\n",
       "}\r\n",
       "table tr td pre \r\n",
       "{ \r\n",
       "    vertical-align: top !important; \r\n",
       "    margin: 0em 0px !important;\r\n",
       "} \r\n",
       "table th {\r\n",
       "    text-align: start;\r\n",
       "}\r\n",
       "</style>"
      ]
     },
     "metadata": {},
     "output_type": "display_data"
    }
   ],
   "source": [
    "let xs = Seq.init 10 id |> Seq.toList\n",
    "let q = xs |> Seq.fold (fun q x -> enqueue q x) {front = []; rear = []}\n",
    "let ys = queueToSeq q |> Seq.toList\n",
    "List.zip xs ys |> List.forall (fun (x, y) -> x = y)"
   ]
  },
  {
   "cell_type": "markdown",
   "metadata": {},
   "source": [
    "Notice that in the current implementation of Microsoft's F# compiler, the following pattern match\n",
    "\n",
    "```fsharp\n",
    "match q.front, List.rev q.rear with\n",
    "| [], [] -> ...\n",
    "| [], x :: xs -> ...\n",
    "| x :: xs, _ -> ...\n",
    "```\n",
    "\n",
    "evaluates `List.rev q.rear` always before matching any branch. This means that the code could easily be made more efficient. However, I think it makes no sense to evaluate such an expression until after `q.front` has been matched, since in some situations this would be sufficient to decide which branch to take. For this reason, I prefer to present the algorithm as it is, and leave it to the reader to optimise it if they think it is necessary."
   ]
  }
 ],
 "metadata": {
  "language_info": {
   "name": "python"
  }
 },
 "nbformat": 4,
 "nbformat_minor": 2
}
