{
 "cells": [
  {
   "cell_type": "markdown",
   "metadata": {},
   "source": [
    "# Exception vs Result"
   ]
  },
  {
   "cell_type": "markdown",
   "metadata": {},
   "source": [
    "An exception happens after the violation of a precondition in our code. For example, in the code below `y ≠ 0` is a precondition:"
   ]
  },
  {
   "cell_type": "code",
   "execution_count": null,
   "metadata": {
    "dotnet_interactive": {
     "language": "fsharp"
    },
    "polyglot_notebook": {
     "kernelName": "fsharp"
    },
    "vscode": {
     "languageId": "polyglot-notebook"
    }
   },
   "outputs": [],
   "source": [
    "let x = stdin.ReadLine() |> int\n",
    "let y = stdin.ReadLine() |> int\n",
    "let r = x / y\n",
    "printfn $\"{x} / {y} = {r}\""
   ]
  },
  {
   "cell_type": "markdown",
   "metadata": {},
   "source": [
    "We also know that in some situations it is better to treat the error as any other value than to throw an exception. So the question is, do we represent an error as a value or do we throw an exception?"
   ]
  },
  {
   "cell_type": "markdown",
   "metadata": {},
   "source": [
    "My way of answering such dilemma is: can the abnormal situation be followed by operations in the same domain where it occurred or do we have to leave it?"
   ]
  },
  {
   "cell_type": "markdown",
   "metadata": {},
   "source": [
    "In the example above after `y = 0` there is no calculation allowing us to continue, it's the user who should know that `y = 0` is not part of the domain of the operation. So it makes sense to catch the exception or if possible to never let such value enter that scope."
   ]
  },
  {
   "cell_type": "markdown",
   "metadata": {},
   "source": [
    "Sometimes we discover that our domain can be enriched with values representing abnormal situations, and that way we can continue operating within it. However, in some cases, adding a `Result` type doesn't change the fact the only thing we can do is leaving one or more scopes."
   ]
  },
  {
   "cell_type": "markdown",
   "metadata": {},
   "source": [
    "In those instances an exception is more appropriate because adding `Result` is only making more cumbersome our way out."
   ]
  },
  {
   "cell_type": "markdown",
   "metadata": {},
   "source": [
    "Originally posted on 2023/10/21 on [Twitter](https://twitter.com/lamg__/status/1715661969724690682)"
   ]
  },
  {
   "cell_type": "markdown",
   "metadata": {},
   "source": []
  }
 ],
 "metadata": {
  "kernelspec": {
   "display_name": ".NET (C#)",
   "language": "C#",
   "name": ".net-csharp"
  },
  "language_info": {
   "name": "python"
  },
  "polyglot_notebook": {
   "kernelInfo": {
    "defaultKernelName": "csharp",
    "items": [
     {
      "aliases": [],
      "name": "csharp"
     }
    ]
   }
  }
 },
 "nbformat": 4,
 "nbformat_minor": 2
}
